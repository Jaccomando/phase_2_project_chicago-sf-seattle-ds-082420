{
 "cells": [
  {
   "cell_type": "markdown",
   "metadata": {},
   "source": [
    "# Do Duplexes Sell for Less per Square Foot than Single Family Homes?"
   ]
  },
  {
   "cell_type": "markdown",
   "metadata": {},
   "source": [
    "## Hypotheses\n",
    "Our null hypothesis is that duplexes do not sell for less per square foot than single family homes.\n",
    "Our alternative hypothesis is that they do sell for less than single family homes..\n",
    "\n",
    "We will try to get results with a 95% confidence, so we will set our alpha to .05\n",
    "\n",
    "#### Possible Errors:\n",
    "If we make a type 1 error, we would claim that duplexes sell for less per square foot, when in reality they do not.\n",
    "\n",
    "On the other hand, if we make a type 2 error, we would claim that they do not sell for less, when in fact they do."
   ]
  },
  {
   "cell_type": "code",
   "execution_count": 9,
   "metadata": {},
   "outputs": [],
   "source": [
    "# First we import the libraries we will be using.\n",
    "import scipy.stats as stats\n",
    "import statsmodels.stats.power as power\n",
    "import pandas as pd\n",
    "import numpy as np"
   ]
  },
  {
   "cell_type": "code",
   "execution_count": 10,
   "metadata": {},
   "outputs": [],
   "source": [
    "def tt_ind(sample1, sample2, alpha = .05, equal_var = True, tails = 2):\n",
    "    \"\"\"\n",
    "    Takes 2 array-like objects, sample1 and sample 2: samples to test for difference\n",
    "    and 1 float: the level of confidence, alpha (default .05)\n",
    "    and 1 bool: whether samples have equal variances (default True)\n",
    "    and a number of tails: 1 or 2 (default 2)\n",
    "    performs two sample t-test and prints critical stat, test stat, and one-tailed pvalue\n",
    "    \"\"\"\n",
    "    tcrit = stats.t.ppf(q=.05, df = len(sample1) + len(sample2)-1)\n",
    "    tstat = stats.ttest_ind(sample1, sample2, equal_var = equal_var)\n",
    "    if tails == 1:\n",
    "        print(f'critical stat is {tcrit}, test stat is {tstat[0]} with a pvalue of {tstat[1]/2}')\n",
    "    elif tails == 2:\n",
    "        print(f'critical stat is {tcrit}, test stat is {tstat[0]} with a pvalue of {tstat[1]}')\n",
    "    else:\n",
    "        print('Please set tails to either 1 or 2')\n",
    "\n",
    "\n",
    "def cohen_d(sample1, sample2):\n",
    "    \"\"\"\n",
    "    Takes 2 array-like objects: samples to compare\n",
    "    Returns a float: the standard effect size according to the Cohen D equation.\n",
    "    \"\"\"\n",
    "    effect_size = (sample1.mean() - sample2.mean()) / np.sqrt(((len(sample1) -1) * sample1.var()\n",
    "                                                         + len(sample2) -1 * sample2.var()\n",
    "                                                          / len(sample1) + len(sample2) -2))\n",
    "    return effect_size"
   ]
  },
  {
   "cell_type": "markdown",
   "metadata": {},
   "source": [
    "## Load the data"
   ]
  },
  {
   "cell_type": "code",
   "execution_count": 11,
   "metadata": {},
   "outputs": [
    {
     "name": "stderr",
     "output_type": "stream",
     "text": [
      "C:\\Users\\caell\\new_Anaconda3\\lib\\site-packages\\IPython\\core\\interactiveshell.py:3071: DtypeWarning: Columns (1,2) have mixed types.Specify dtype option on import or set low_memory=False.\n",
      "  has_raised = await self.run_ast_nodes(code_ast.body, cell_name,\n",
      "C:\\Users\\caell\\new_Anaconda3\\lib\\site-packages\\IPython\\core\\interactiveshell.py:3071: DtypeWarning: Columns (11) have mixed types.Specify dtype option on import or set low_memory=False.\n",
      "  has_raised = await self.run_ast_nodes(code_ast.body, cell_name,\n"
     ]
    }
   ],
   "source": [
    "salespath = r'C:\\Users\\caell\\flatiron\\projects\\phase_2_project\\phase_2_project_chicago-sf-seattle-ds-082420\\data\\EXTR_RPSale.csv'\n",
    "parcelpath = r'C:\\Users\\caell\\flatiron\\projects\\phase_2_project\\phase_2_project_chicago-sf-seattle-ds-082420\\data\\EXTR_Parcel.csv'\n",
    "residentialpath = r'C:\\Users\\caell\\flatiron\\projects\\phase_2_project\\phase_2_project_chicago-sf-seattle-ds-082420\\data\\EXTR_ResBldg.csv'\n",
    "sales = pd.read_csv(salespath, encoding = 'ISO-8859-1')\n",
    "parcels = pd.read_csv(parcelpath, encoding = 'ISO-8859-1')\n",
    "residences = pd.read_csv(residentialpath, encoding = 'ISO-8859-1')"
   ]
  },
  {
   "cell_type": "markdown",
   "metadata": {},
   "source": [
    "## Prepare the data\n"
   ]
  },
  {
   "cell_type": "code",
   "execution_count": 12,
   "metadata": {},
   "outputs": [],
   "source": [
    "sales = sales[sales['DocumentDate'].astype(str).str.endswith('2019')]\n",
    "sales = sales[(sales['SalePrice'] > 120000) & (sales['SalePrice'] < 3000000)]"
   ]
  },
  {
   "cell_type": "markdown",
   "metadata": {},
   "source": [
    "### Join the tables and extract the features we want to compare"
   ]
  },
  {
   "cell_type": "code",
   "execution_count": 13,
   "metadata": {},
   "outputs": [],
   "source": [
    "\n",
    "duplexs = parcels[parcels['PresentUse'] == 3]\n",
    "duplexs = duplexs.merge(sales, on = ['Major','Minor']).merge(residences, on = ['Major','Minor'])\n",
    "duplexs = duplexs[['SalePrice','SqFtTotLiving']]\n",
    "duplexs['cost_per_sqft'] = duplexs.SalePrice / duplexs.SqFtTotLiving\n",
    "singlefamily = parcels[parcels['PresentUse'] == 2]\n",
    "singlefamily = singlefamily.merge(sales, on = ['Major','Minor']).merge(residences, on = ['Major','Minor'])\n",
    "singlefamily = singlefamily[['SalePrice','SqFtTotLiving']]\n",
    "singlefamily['cost_per_sqft'] = singlefamily.SalePrice / singlefamily.SqFtTotLiving\n"
   ]
  },
  {
   "cell_type": "markdown",
   "metadata": {},
   "source": [
    "### Single family vs duplex sample size and sample means"
   ]
  },
  {
   "cell_type": "code",
   "execution_count": 14,
   "metadata": {},
   "outputs": [
    {
     "name": "stdout",
     "output_type": "stream",
     "text": [
      "In 2019 269 duplexes were sold, and 24705 single family homes were sold.\n",
      "The mean cost per sqft of our samples for single family homes is 368.8780652069677\n",
      "The mean cost per sqft of our samples for duplexs is 439.0665500492637\n"
     ]
    }
   ],
   "source": [
    "sample1 = duplexs['cost_per_sqft']\n",
    "sample2 = singlefamily['cost_per_sqft']\n",
    "print(f'In 2019 {len(sample1)} duplexes were sold, and {len(sample2)} single family homes were sold.')\n",
    "\n",
    "print(f'The mean cost per sqft of our samples for single family homes is {sample2.mean()}')\n",
    "print(f'The mean cost per sqft of our samples for duplexs is {sample1.mean()}')"
   ]
  },
  {
   "cell_type": "markdown",
   "metadata": {},
   "source": [
    "A quick glace at the sample means seems to indicate that, in fact, duplexes sell for more per square foot than single family homes.  Let's test whether this difference is statistically significant, especially since our sample size of duplexes is much smaller than for single family homes."
   ]
  },
  {
   "cell_type": "markdown",
   "metadata": {},
   "source": [
    "## Testing for statistical significance\n",
    "\n",
    "We will be using a two sample, one-tailed Welch's test to determine the statistical significance of the difference in means.  Our T-critical value tells us that we need a test statistic below -1.645 to confirm with 95% confidence that duplexes sell for less per square foot than single family homes.  We are looking for a pvalue of .05 or less to confirm our result."
   ]
  },
  {
   "cell_type": "code",
   "execution_count": 16,
   "metadata": {},
   "outputs": [
    {
     "name": "stdout",
     "output_type": "stream",
     "text": [
      "critical stat is -1.6449146458926769, test stat is 3.3512678738706114 with a pvalue of 0.00045785649983049495\n"
     ]
    }
   ],
   "source": [
    "tt_ind(sample1, sample2, alpha = .05, equal_var = False, tails = 1)"
   ]
  },
  {
   "cell_type": "markdown",
   "metadata": {},
   "source": [
    "# We cannot reject the null hypothesis\n",
    "\n",
    "Our critical stat, which tells us if duplexes sell for less per square foot than single family homes is ~ -1.64.  Our test statistic would need to be below that for us to confidently confirm this.  \n",
    "\n",
    "In fact, the test statistic is ~ 3.35.  We cannot reject our null hypothesis. "
   ]
  },
  {
   "cell_type": "markdown",
   "metadata": {},
   "source": [
    "### What are the chances we are wrong?\n",
    "Let's check the power of our test, the chance that we would detect the lower average per square foot value of duplexes, if it were there."
   ]
  },
  {
   "cell_type": "code",
   "execution_count": 17,
   "metadata": {},
   "outputs": [
    {
     "data": {
      "text/plain": [
       "0.9477560624182295"
      ]
     },
     "execution_count": 17,
     "metadata": {},
     "output_type": "execute_result"
    }
   ],
   "source": [
    "effect = cohen_d(sample1, sample2)\n",
    "\n",
    "power.tt_ind_solve_power(alpha = .95, \n",
    "                         nobs1 = len(sample1), \n",
    "                         ratio = len(sample1) / len(sample2),\n",
    "                         alternative = 'smaller',\n",
    "                         effect_size = effect)"
   ]
  },
  {
   "cell_type": "markdown",
   "metadata": {},
   "source": [
    "The power of our test is just under .95.  If, in fact, duplexes do sell for less per square foot than single family homes, we would get this same result about 5% of the time.  This gives us ~ 95% confidence that we are not mistaken. "
   ]
  },
  {
   "cell_type": "markdown",
   "metadata": {},
   "source": [
    "## It's likely that duplexes do not sell for less than single family homes."
   ]
  },
  {
   "cell_type": "markdown",
   "metadata": {},
   "source": [
    "## Next steps\n",
    "\n",
    "We recommend testing whether duplexes, in fact may sell for more per square foot than single family homes, which our tests may indicate is the case.  If so, subdividing a home into a duplex may be a successful way for some homeowners to improve the value of their home."
   ]
  }
 ],
 "metadata": {
  "kernelspec": {
   "display_name": "Python 3",
   "language": "python",
   "name": "python3"
  },
  "language_info": {
   "codemirror_mode": {
    "name": "ipython",
    "version": 3
   },
   "file_extension": ".py",
   "mimetype": "text/x-python",
   "name": "python",
   "nbconvert_exporter": "python",
   "pygments_lexer": "ipython3",
   "version": "3.8.3"
  }
 },
 "nbformat": 4,
 "nbformat_minor": 4
}
