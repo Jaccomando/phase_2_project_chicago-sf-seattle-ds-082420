{
 "cells": [
  {
   "cell_type": "markdown",
   "metadata": {},
   "source": [
    "# Do Duplexes Sell for Less per Square Foot than Single Family Homes?"
   ]
  },
  {
   "cell_type": "markdown",
   "metadata": {},
   "source": [
    "## Hypotheses\n",
    "Our null hypothesis is that duplexes do not sell for less per square foot than single family homes.\n",
    "Our alternative hypothesis is that they do sell for less than single family homes..\n",
    "\n",
    "We will try to get results with a 95% confidence, so we will set our alpha to .05\n",
    "\n",
    "#### Possible Errors:\n",
    "If we make a type 1 error, we would claim that duplexes sell for less per square foot, when in reality they do not.\n",
    "\n",
    "On the other hand, if we make a type 2 error, we would claim that they do not sell for less, when in fact they do."
   ]
  },
  {
   "cell_type": "code",
   "execution_count": 3,
   "metadata": {},
   "outputs": [],
   "source": [
    "# First we import the libraries we will be using.\n",
    "import os\n",
    "import sys\n",
    "module_path = os.path.abspath(os.pardir)\n",
    "if module_path not in sys.path:\n",
    "    sys.path.append(module_path)\n",
    "from src import data_download\n",
    "import scipy.stats as stats\n",
    "import statsmodels.stats.power as power\n",
    "import pandas as pd\n",
    "import numpy as np"
   ]
  },
  {
   "cell_type": "markdown",
   "metadata": {},
   "source": [
    "## Load the data"
   ]
  },
  {
   "cell_type": "code",
   "execution_count": 4,
   "metadata": {},
   "outputs": [
    {
     "name": "stdout",
     "output_type": "stream",
     "text": [
      "Successfully downloaded ZIP file\n",
      "    https://aqua.kingcounty.gov/extranet/assessor/Parcel.zip\n",
      "    \n",
      "Successfully downloaded ZIP file\n",
      "    https://aqua.kingcounty.gov/extranet/assessor/Residential%20Building.zip\n",
      "    \n"
     ]
    },
    {
     "name": "stderr",
     "output_type": "stream",
     "text": [
      "C:\\Users\\caell\\new_Anaconda3\\lib\\site-packages\\IPython\\core\\interactiveshell.py:3343: DtypeWarning: Columns (11) have mixed types.Specify dtype option on import or set low_memory=False.\n",
      "  exec(code_obj, self.user_global_ns, self.user_ns)\n"
     ]
    },
    {
     "name": "stdout",
     "output_type": "stream",
     "text": [
      "Successfully downloaded ZIP file\n",
      "    https://aqua.kingcounty.gov/extranet/assessor/Real%20Property%20Sales.zip\n",
      "    \n"
     ]
    },
    {
     "name": "stderr",
     "output_type": "stream",
     "text": [
      "C:\\Users\\caell\\new_Anaconda3\\lib\\site-packages\\IPython\\core\\interactiveshell.py:3343: DtypeWarning: Columns (1,2) have mixed types.Specify dtype option on import or set low_memory=False.\n",
      "  exec(code_obj, self.user_global_ns, self.user_ns)\n"
     ]
    },
    {
     "name": "stdout",
     "output_type": "stream",
     "text": [
      "Successfully downloaded ZIP file\n",
      "    https://aqua.kingcounty.gov/extranet/assessor/Lookup.zip\n",
      "    \n"
     ]
    }
   ],
   "source": [
    "DataFrames = data_download.get_dataframes()\n",
    "sales = DataFrames['rp_sale']\n",
    "parcels = DataFrames['parcel']\n",
    "residences = DataFrames['res_bldg']"
   ]
  },
  {
   "cell_type": "markdown",
   "metadata": {},
   "source": [
    "## Filter the data for subset we want to explore\n"
   ]
  },
  {
   "cell_type": "code",
   "execution_count": 5,
   "metadata": {},
   "outputs": [],
   "source": [
    "sales = sales[sales['DocumentDate'].astype(str).str.endswith('2019')]\n",
    "sales = sales[(sales['SalePrice'] > 120000) & (sales['SalePrice'] < 3000000)]"
   ]
  },
  {
   "cell_type": "markdown",
   "metadata": {},
   "source": [
    "#### Join the tables and extract the features we want to compare"
   ]
  },
  {
   "cell_type": "code",
   "execution_count": 6,
   "metadata": {},
   "outputs": [],
   "source": [
    "\n",
    "duplexs = parcels[parcels['PresentUse'] == 3]\n",
    "duplexs = duplexs.merge(sales, on = ['Major','Minor']).merge(residences, on = ['Major','Minor'])\n",
    "duplexs = duplexs[['SalePrice','SqFtTotLiving']]\n",
    "duplexs['cost_per_sqft'] = duplexs.SalePrice / duplexs.SqFtTotLiving\n",
    "singlefamily = parcels[parcels['PresentUse'] == 2]\n",
    "singlefamily = singlefamily.merge(sales, on = ['Major','Minor']).merge(residences, on = ['Major','Minor'])\n",
    "singlefamily = singlefamily[['SalePrice','SqFtTotLiving']]\n",
    "singlefamily['cost_per_sqft'] = singlefamily.SalePrice / singlefamily.SqFtTotLiving\n"
   ]
  },
  {
   "cell_type": "markdown",
   "metadata": {},
   "source": [
    "### Single family vs duplex: sample size and sample means"
   ]
  },
  {
   "cell_type": "code",
   "execution_count": 7,
   "metadata": {},
   "outputs": [
    {
     "name": "stdout",
     "output_type": "stream",
     "text": [
      "In 2019 262 duplexes were sold, and 24710 single family homes were sold.\n",
      "The mean cost per sqft of our samples for single family homes is 365.5262182329487\n",
      "The mean cost per sqft of our samples for duplexs is 432.95432652015114\n"
     ]
    }
   ],
   "source": [
    "sample1 = duplexs['cost_per_sqft']\n",
    "sample2 = singlefamily['cost_per_sqft']\n",
    "print(f'In 2019 {len(sample1)} duplexes were sold, and {len(sample2)} single family homes were sold.')\n",
    "\n",
    "print(f'The mean cost per sqft of our samples for single family homes is {sample2.mean()}')\n",
    "print(f'The mean cost per sqft of our samples for duplexs is {sample1.mean()}')"
   ]
  },
  {
   "cell_type": "markdown",
   "metadata": {},
   "source": [
    "A quick glace at the sample means seems to indicate that, in fact, duplexes sell for more per square foot than single family homes.  Let's test whether this difference is statistically significant, especially since our sample size of duplexes is much smaller than for single family homes."
   ]
  },
  {
   "cell_type": "markdown",
   "metadata": {},
   "source": [
    "## Testing for statistical significance\n",
    "\n",
    "We will be using a two sample, one-tailed Welch's test to determine the statistical significance of the difference in means.  Our T-critical value tells us that we need a test statistic below -1.645 to confirm with 95% confidence that duplexes sell for less per square foot than single family homes.  We are looking for a pvalue of .05 or less to confirm our result."
   ]
  },
  {
   "cell_type": "code",
   "execution_count": 8,
   "metadata": {},
   "outputs": [
    {
     "name": "stdout",
     "output_type": "stream",
     "text": [
      "critical stat is -1.6449146507800436, test stat is 3.255415005345168 with a pvalue of 0.0006402560157514741\n"
     ]
    }
   ],
   "source": [
    "data_download.tt_ind(sample1, sample2, alpha = .05, equal_var = False, tails = 1)"
   ]
  },
  {
   "cell_type": "markdown",
   "metadata": {},
   "source": [
    "# We cannot reject the null hypothesis\n",
    "\n",
    "Our critical stat, which tells us if duplexes sell for less per square foot than single family homes is ~ -1.64.  Our test statistic would need to be below that for us to confidently confirm this.  \n",
    "\n",
    "In fact, the test statistic is ~ 3.35.  We cannot reject our null hypothesis. "
   ]
  },
  {
   "cell_type": "markdown",
   "metadata": {},
   "source": [
    "### What are the chances we are wrong?\n",
    "Let's check the power of our test, the chance that we would detect the lower average per square foot value of duplexes, if it were there."
   ]
  },
  {
   "cell_type": "code",
   "execution_count": 9,
   "metadata": {},
   "outputs": [
    {
     "name": "stdout",
     "output_type": "stream",
     "text": [
      "The power of our test to discover a lower square foot cost of duplexes, if it is there, is 0.9478374526365154\n"
     ]
    }
   ],
   "source": [
    "effect = data_download.cohen_d(sample1, sample2)\n",
    "\n",
    "testpower = power.tt_ind_solve_power(alpha = .95, \n",
    "                         nobs1 = len(sample1), \n",
    "                         ratio = len(sample1) / len(sample2),\n",
    "                         alternative = 'smaller',\n",
    "                         effect_size = effect)\n",
    "\n",
    "print(f'The power of our test to discover a lower square foot cost of duplexes, if it is there, is {testpower}')"
   ]
  },
  {
   "cell_type": "markdown",
   "metadata": {},
   "source": [
    "The power of our test is just under .95.  If, in fact, duplexes do sell for less per square foot than single family homes, we would get this same result about 5% of the time.  This gives us ~ 95% confidence that we are not mistaken. "
   ]
  },
  {
   "cell_type": "markdown",
   "metadata": {},
   "source": [
    "## It's likely that duplexes do not sell for less than single family homes."
   ]
  },
  {
   "cell_type": "markdown",
   "metadata": {},
   "source": [
    "## Next steps\n",
    "\n",
    "We recommend testing whether duplexes, in fact may sell for more per square foot than single family homes, which our tests may indicate is the case.  If so, subdividing a home into a duplex may be a successful way for some homeowners to improve the value of their home."
   ]
  }
 ],
 "metadata": {
  "kernelspec": {
   "display_name": "Python 3",
   "language": "python",
   "name": "python3"
  },
  "language_info": {
   "codemirror_mode": {
    "name": "ipython",
    "version": 3
   },
   "file_extension": ".py",
   "mimetype": "text/x-python",
   "name": "python",
   "nbconvert_exporter": "python",
   "pygments_lexer": "ipython3",
   "version": "3.6.9"
  }
 },
 "nbformat": 4,
 "nbformat_minor": 4
}
