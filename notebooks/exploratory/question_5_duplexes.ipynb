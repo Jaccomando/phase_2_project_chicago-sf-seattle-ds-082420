{
 "cells": [
  {
   "cell_type": "markdown",
   "metadata": {},
   "source": [
    "# Do Duplexes Sell for Less per Square Foot than Single Family Homes?"
   ]
  },
  {
   "cell_type": "markdown",
   "metadata": {},
   "source": [
    "## Hypotheses\n",
    "Our null hypothesis is that duplexes do not sell for less per square foot than single family homes.\n",
    "Our alternative hypothesis is that they do sell for less.\n",
    "\n",
    "We will try to get results with a 95% confidence, so we will set our alpha to .05\n",
    "\n",
    "#### Possible Errors:\n",
    "If we make a type 1 error, we would claim that duplexes sell for less per square foot, when in reality they do not.\n",
    "\n",
    "On the other hand, if we make a type 2 error, we will claim that they do not sell for less, when in fact they do."
   ]
  },
  {
   "cell_type": "code",
   "execution_count": 161,
   "metadata": {},
   "outputs": [],
   "source": [
    "# First we import the libraries we will be using.\n",
    "import scipy.stats as stats\n",
    "import statsmodels.stats.power as power\n",
    "import pandas as pd\n",
    "import numpy as np"
   ]
  },
  {
   "cell_type": "code",
   "execution_count": 179,
   "metadata": {},
   "outputs": [],
   "source": [
    "def tt_ind(sample1, sample2, alpha = .05, equal_var = True, tails = 2):\n",
    "    \"\"\"\n",
    "    Takes 2 array-like objects, sample1 and sample 2: samples to test for difference\n",
    "    and 1 float: the level of confidence, alpha (default .05)\n",
    "    and 1 bool: whether samples have equal variances (default True)\n",
    "    and a number of tails: 1 or 2 (default 2)\n",
    "    performs two sample t-test and prints critical stat, test stat, and one-tailed pvalue\n",
    "    \"\"\"\n",
    "    tcrit = stats.t.ppf(q=.05, df = len(sample1) + len(sample2)-1)\n",
    "    tstat = stats.ttest_ind(sample1, sample2, equal_var = equal_var)\n",
    "    if tails == 1:\n",
    "        print(f'critical stat is {tcrit}, test stat is {tstat[0]} with a pvalue of {tstat[1]/2}')\n",
    "    elif tails == 2:\n",
    "        print(f'critical stat is {tcrit}, test stat is {tstat[0]} with a pvalue of {tstat[1]}')\n",
    "    else:\n",
    "        print('Please set tails to either 1 or 2')\n",
    "\n",
    "\n",
    "def cohen_d(sample1, sample2):\n",
    "    \"\"\"\n",
    "    Takes 2 array-like objects: samples to compare\n",
    "    Returns a float: the standard effect size according to the Cohen D equation.\n",
    "    \"\"\"\n",
    "    effect_size = (sample1.mean() - sample2.mean()) / np.sqrt(((len(sample1) -1) * sample1.var()\n",
    "                                                         + len(sample2) -1 * sample2.var()\n",
    "                                                          / len(sample1) + len(sample2) -2))\n",
    "    return effect_size"
   ]
  },
  {
   "cell_type": "markdown",
   "metadata": {},
   "source": [
    "## Load the data"
   ]
  },
  {
   "cell_type": "code",
   "execution_count": 163,
   "metadata": {},
   "outputs": [
    {
     "name": "stderr",
     "output_type": "stream",
     "text": [
      "C:\\Users\\caell\\new_Anaconda3\\lib\\site-packages\\IPython\\core\\interactiveshell.py:3071: DtypeWarning: Columns (1,2) have mixed types.Specify dtype option on import or set low_memory=False.\n",
      "  has_raised = await self.run_ast_nodes(code_ast.body, cell_name,\n",
      "C:\\Users\\caell\\new_Anaconda3\\lib\\site-packages\\IPython\\core\\interactiveshell.py:3071: DtypeWarning: Columns (11) have mixed types.Specify dtype option on import or set low_memory=False.\n",
      "  has_raised = await self.run_ast_nodes(code_ast.body, cell_name,\n"
     ]
    }
   ],
   "source": [
    "salespath = r'C:\\Users\\caell\\flatiron\\projects\\phase_2_project\\phase_2_project_chicago-sf-seattle-ds-082420\\data\\EXTR_RPSale.csv'\n",
    "parcelpath = r'C:\\Users\\caell\\flatiron\\projects\\phase_2_project\\phase_2_project_chicago-sf-seattle-ds-082420\\data\\EXTR_Parcel.csv'\n",
    "residentialpath = r'C:\\Users\\caell\\flatiron\\projects\\phase_2_project\\phase_2_project_chicago-sf-seattle-ds-082420\\data\\EXTR_ResBldg.csv'\n",
    "sales = pd.read_csv(salespath, encoding = 'ISO-8859-1')\n",
    "parcels = pd.read_csv(parcelpath, encoding = 'ISO-8859-1')\n",
    "residences = pd.read_csv(residentialpath, encoding = 'ISO-8859-1')"
   ]
  },
  {
   "cell_type": "markdown",
   "metadata": {},
   "source": [
    "## Prepare the data"
   ]
  },
  {
   "cell_type": "code",
   "execution_count": 164,
   "metadata": {
    "scrolled": true
   },
   "outputs": [],
   "source": [
    "sales['pin'] = sales.Major.astype(str) + sales.Minor.astype(str)\n",
    "sales.set_index('pin', inplace = True)\n",
    "sales = sales[sales['DocumentDate'].astype(str).str.endswith('2019')]\n",
    "parcels['pin'] = parcels.Major.astype(str) + parcels.Minor.astype(str)\n",
    "parcels.set_index('pin', inplace = True)\n",
    "residences['pin'] = residences.Major.astype(str) + residences.Minor.astype(str)\n",
    "residences.set_index('pin', inplace = True)\n"
   ]
  },
  {
   "cell_type": "markdown",
   "metadata": {},
   "source": [
    "## Join the tables and extract the features we want to compare."
   ]
  },
  {
   "cell_type": "code",
   "execution_count": 165,
   "metadata": {},
   "outputs": [
    {
     "data": {
      "text/html": [
       "<div>\n",
       "<style scoped>\n",
       "    .dataframe tbody tr th:only-of-type {\n",
       "        vertical-align: middle;\n",
       "    }\n",
       "\n",
       "    .dataframe tbody tr th {\n",
       "        vertical-align: top;\n",
       "    }\n",
       "\n",
       "    .dataframe thead th {\n",
       "        text-align: right;\n",
       "    }\n",
       "</style>\n",
       "<table border=\"1\" class=\"dataframe\">\n",
       "  <thead>\n",
       "    <tr style=\"text-align: right;\">\n",
       "      <th></th>\n",
       "      <th>SalePrice</th>\n",
       "      <th>SqFtTotLiving</th>\n",
       "      <th>cost_per_sqft</th>\n",
       "    </tr>\n",
       "    <tr>\n",
       "      <th>pin</th>\n",
       "      <th></th>\n",
       "      <th></th>\n",
       "      <th></th>\n",
       "    </tr>\n",
       "  </thead>\n",
       "  <tbody>\n",
       "    <tr>\n",
       "      <th>1025049027</th>\n",
       "      <td>760000</td>\n",
       "      <td>2260</td>\n",
       "      <td>336.283186</td>\n",
       "    </tr>\n",
       "    <tr>\n",
       "      <th>1025049153</th>\n",
       "      <td>875000</td>\n",
       "      <td>2000</td>\n",
       "      <td>437.500000</td>\n",
       "    </tr>\n",
       "    <tr>\n",
       "      <th>1070050</th>\n",
       "      <td>1040000</td>\n",
       "      <td>1650</td>\n",
       "      <td>630.303030</td>\n",
       "    </tr>\n",
       "    <tr>\n",
       "      <th>1080030</th>\n",
       "      <td>675000</td>\n",
       "      <td>1650</td>\n",
       "      <td>409.090909</td>\n",
       "    </tr>\n",
       "    <tr>\n",
       "      <th>114200690</th>\n",
       "      <td>17255000</td>\n",
       "      <td>2080</td>\n",
       "      <td>8295.673077</td>\n",
       "    </tr>\n",
       "  </tbody>\n",
       "</table>\n",
       "</div>"
      ],
      "text/plain": [
       "            SalePrice  SqFtTotLiving  cost_per_sqft\n",
       "pin                                                \n",
       "1025049027     760000           2260     336.283186\n",
       "1025049153     875000           2000     437.500000\n",
       "1070050       1040000           1650     630.303030\n",
       "1080030        675000           1650     409.090909\n",
       "114200690    17255000           2080    8295.673077"
      ]
     },
     "execution_count": 165,
     "metadata": {},
     "output_type": "execute_result"
    }
   ],
   "source": [
    "duplexs = parcels[parcels['PresentUse'] == 3]\n",
    "duplexs = pd.DataFrame(duplexs['SqFtLot'])\n",
    "duplexs = duplexs.join(sales, how = 'inner')\n",
    "duplexs = duplexs[['SqFtLot','SalePrice']]\n",
    "duplexs = duplexs.join(residences, how='inner')\n",
    "duplexs = duplexs[['SalePrice','SqFtTotLiving']]\n",
    "duplexs = duplexs[duplexs['SalePrice'] > 0]\n",
    "duplexs['cost_per_sqft'] = duplexs.SalePrice / duplexs.SqFtTotLiving\n",
    "\n",
    "duplexs.head()"
   ]
  },
  {
   "cell_type": "code",
   "execution_count": 166,
   "metadata": {},
   "outputs": [
    {
     "data": {
      "text/html": [
       "<div>\n",
       "<style scoped>\n",
       "    .dataframe tbody tr th:only-of-type {\n",
       "        vertical-align: middle;\n",
       "    }\n",
       "\n",
       "    .dataframe tbody tr th {\n",
       "        vertical-align: top;\n",
       "    }\n",
       "\n",
       "    .dataframe thead th {\n",
       "        text-align: right;\n",
       "    }\n",
       "</style>\n",
       "<table border=\"1\" class=\"dataframe\">\n",
       "  <thead>\n",
       "    <tr style=\"text-align: right;\">\n",
       "      <th></th>\n",
       "      <th>SalePrice</th>\n",
       "      <th>SqFtTotLiving</th>\n",
       "      <th>cost_per_sqft</th>\n",
       "    </tr>\n",
       "    <tr>\n",
       "      <th>pin</th>\n",
       "      <th></th>\n",
       "      <th></th>\n",
       "      <th></th>\n",
       "    </tr>\n",
       "  </thead>\n",
       "  <tbody>\n",
       "    <tr>\n",
       "      <th>100023</th>\n",
       "      <td>520000</td>\n",
       "      <td>1100</td>\n",
       "      <td>472.727273</td>\n",
       "    </tr>\n",
       "    <tr>\n",
       "      <th>10004</th>\n",
       "      <td>813000</td>\n",
       "      <td>1720</td>\n",
       "      <td>472.674419</td>\n",
       "    </tr>\n",
       "    <tr>\n",
       "      <th>10012025</th>\n",
       "      <td>245600</td>\n",
       "      <td>1060</td>\n",
       "      <td>231.698113</td>\n",
       "    </tr>\n",
       "    <tr>\n",
       "      <th>10012045</th>\n",
       "      <td>425000</td>\n",
       "      <td>1310</td>\n",
       "      <td>324.427481</td>\n",
       "    </tr>\n",
       "    <tr>\n",
       "      <th>10030120</th>\n",
       "      <td>615000</td>\n",
       "      <td>2390</td>\n",
       "      <td>257.322176</td>\n",
       "    </tr>\n",
       "  </tbody>\n",
       "</table>\n",
       "</div>"
      ],
      "text/plain": [
       "          SalePrice  SqFtTotLiving  cost_per_sqft\n",
       "pin                                              \n",
       "100023       520000           1100     472.727273\n",
       "10004        813000           1720     472.674419\n",
       "10012025     245600           1060     231.698113\n",
       "10012045     425000           1310     324.427481\n",
       "10030120     615000           2390     257.322176"
      ]
     },
     "execution_count": 166,
     "metadata": {},
     "output_type": "execute_result"
    }
   ],
   "source": [
    "singlefamily = parcels[parcels['PresentUse'] == 2]\n",
    "singlefamily = pd.DataFrame(singlefamily['SqFtLot'])\n",
    "singlefamily = singlefamily.join(sales, how = 'inner')\n",
    "singlefamily = singlefamily[['SqFtLot','SalePrice']]\n",
    "singlefamily = singlefamily.join(residences, how='inner')\n",
    "singlefamily = singlefamily[['SalePrice','SqFtTotLiving']]\n",
    "singlefamily = singlefamily[singlefamily['SalePrice'] > 0]\n",
    "singlefamily['cost_per_sqft'] = singlefamily.SalePrice / singlefamily.SqFtTotLiving\n",
    "\n",
    "singlefamily.head()"
   ]
  },
  {
   "cell_type": "markdown",
   "metadata": {},
   "source": [
    "### Single family vs duplex sample size and sample means"
   ]
  },
  {
   "cell_type": "code",
   "execution_count": 175,
   "metadata": {},
   "outputs": [
    {
     "name": "stdout",
     "output_type": "stream",
     "text": [
      "282 duplexs were sold in 2019, and 25653 single family homes were sold.\n",
      "The mean cost per sqft of our samples for Single Family Homes is 380.84841644179767\n",
      "The mean cost per sqft of our samples for Duplexs is 569.2470483466892\n"
     ]
    }
   ],
   "source": [
    "sample1 = duplexs['cost_per_sqft']\n",
    "sample2 = singlefamily['cost_per_sqft']\n",
    "print(f'{len(sample1)} duplexs were sold in 2019, and {len(sample2)} single family homes were sold.')\n",
    "\n",
    "print(f'The mean cost per sqft of our samples for Single Family Homes is {sample2.mean()}')\n",
    "print(f'The mean cost per sqft of our samples for Duplexs is {sample1.mean()}')"
   ]
  },
  {
   "cell_type": "markdown",
   "metadata": {},
   "source": [
    "## Testing for statistical significance.\n",
    "\n",
    "We will be using a two sample, one-tailed Welch's test to determine the statistical significance of the difference in means.  Our T-critical value tells us that we need a test statistic below -1.645 to confirm with 95% confidence that duplexes sell for less per square foot than single family homes.  We are looking for a pvalue of .05 or less to confirm our result."
   ]
  },
  {
   "cell_type": "code",
   "execution_count": 176,
   "metadata": {},
   "outputs": [
    {
     "name": "stdout",
     "output_type": "stream",
     "text": [
      "critical stat is -1.6449123847177736, test stat is 1.692928658479199 with a pvalue of 0.045787490954498744\n"
     ]
    }
   ],
   "source": [
    "one_tailed_tt_ind(sample1, sample2, alpha = .05, equal_var = False, tails = 1)"
   ]
  },
  {
   "cell_type": "markdown",
   "metadata": {},
   "source": [
    "# We cannot reject the null hypothesis\n",
    "\n",
    "Our critical stat, which tells us if duplexes sell for less per square foot than single family homes is ~ -1.64.  Our test statistic would need to be below that for us to confidently confirm this.  In fact, the test statistic is positive ~ 1.7.  We cannot reject our null hypothesis. "
   ]
  },
  {
   "cell_type": "markdown",
   "metadata": {},
   "source": [
    "### What are the chances we are wrong?\n",
    "Let's check the power of our test, the chance that we would detect the lower average per square foot value of duplexes, if they were there."
   ]
  },
  {
   "cell_type": "code",
   "execution_count": 177,
   "metadata": {},
   "outputs": [
    {
     "data": {
      "text/plain": [
       "0.9489065210305199"
      ]
     },
     "execution_count": 177,
     "metadata": {},
     "output_type": "execute_result"
    }
   ],
   "source": [
    "effect = cohen_d(sample1, sample2)\n",
    "\n",
    "power.tt_ind_solve_power(alpha = .95, \n",
    "                                     nobs1 = len(sample1), \n",
    "                                     ratio = len(sample1) / len(sample2),\n",
    "                                    alternative = 'smaller',\n",
    "                                    effect_size = effect)"
   ]
  },
  {
   "cell_type": "markdown",
   "metadata": {},
   "source": [
    "The power of our test is just under .95.  If, in fact, duplexes do sell for less per square foot than single family homes, we would get this same result about 5% of the time.  This gives us ~ 95% confidence that we are not mistaken. \n",
    "\n",
    "#### It's likely that duplexes do not sell for less than single family homes."
   ]
  },
  {
   "cell_type": "markdown",
   "metadata": {},
   "source": [
    "## Next steps\n",
    "\n",
    "We recommend testing whether duplexes, in fact may sell for more per square foot than single family homes, which our tests may indicate is the case."
   ]
  },
  {
   "cell_type": "code",
   "execution_count": null,
   "metadata": {},
   "outputs": [],
   "source": []
  }
 ],
 "metadata": {
  "kernelspec": {
   "display_name": "Python 3",
   "language": "python",
   "name": "python3"
  },
  "language_info": {
   "codemirror_mode": {
    "name": "ipython",
    "version": 3
   },
   "file_extension": ".py",
   "mimetype": "text/x-python",
   "name": "python",
   "nbconvert_exporter": "python",
   "pygments_lexer": "ipython3",
   "version": "3.8.3"
  }
 },
 "nbformat": 4,
 "nbformat_minor": 4
}
