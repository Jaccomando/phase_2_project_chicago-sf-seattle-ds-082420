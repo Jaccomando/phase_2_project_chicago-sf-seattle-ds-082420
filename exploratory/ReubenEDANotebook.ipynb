{
 "cells": [
  {
   "cell_type": "code",
   "execution_count": 41,
   "metadata": {},
   "outputs": [],
   "source": [
    "import matplotlib.pyplot as plt\n",
    "import pandas as pd\n",
    "import numpy as np\n",
    "import statsmodels.stats as stats\n",
    "import seaborn as sns"
   ]
  },
  {
   "cell_type": "code",
   "execution_count": 37,
   "metadata": {
    "scrolled": true
   },
   "outputs": [
    {
     "name": "stderr",
     "output_type": "stream",
     "text": [
      "/Users/reuben/opt/anaconda3/envs/learn-env/lib/python3.6/site-packages/IPython/core/interactiveshell.py:2714: DtypeWarning: Columns (1,2) have mixed types. Specify dtype option on import or set low_memory=False.\n",
      "  interactivity=interactivity, compiler=compiler, result=result)\n"
     ]
    },
    {
     "data": {
      "text/html": [
       "<div>\n",
       "<style scoped>\n",
       "    .dataframe tbody tr th:only-of-type {\n",
       "        vertical-align: middle;\n",
       "    }\n",
       "\n",
       "    .dataframe tbody tr th {\n",
       "        vertical-align: top;\n",
       "    }\n",
       "\n",
       "    .dataframe thead th {\n",
       "        text-align: right;\n",
       "    }\n",
       "</style>\n",
       "<table border=\"1\" class=\"dataframe\">\n",
       "  <thead>\n",
       "    <tr style=\"text-align: right;\">\n",
       "      <th></th>\n",
       "      <th>Major</th>\n",
       "      <th>Minor</th>\n",
       "      <th>DocumentDate</th>\n",
       "      <th>SalePrice</th>\n",
       "    </tr>\n",
       "  </thead>\n",
       "  <tbody>\n",
       "    <tr>\n",
       "      <th>0</th>\n",
       "      <td>138860</td>\n",
       "      <td>110</td>\n",
       "      <td>08/21/2014</td>\n",
       "      <td>245000</td>\n",
       "    </tr>\n",
       "    <tr>\n",
       "      <th>1</th>\n",
       "      <td>664885</td>\n",
       "      <td>40</td>\n",
       "      <td>07/09/1991</td>\n",
       "      <td>0</td>\n",
       "    </tr>\n",
       "    <tr>\n",
       "      <th>2</th>\n",
       "      <td>423943</td>\n",
       "      <td>50</td>\n",
       "      <td>10/11/2014</td>\n",
       "      <td>0</td>\n",
       "    </tr>\n",
       "    <tr>\n",
       "      <th>3</th>\n",
       "      <td>403700</td>\n",
       "      <td>715</td>\n",
       "      <td>01/04/2013</td>\n",
       "      <td>0</td>\n",
       "    </tr>\n",
       "    <tr>\n",
       "      <th>4</th>\n",
       "      <td>213043</td>\n",
       "      <td>120</td>\n",
       "      <td>12/20/2019</td>\n",
       "      <td>560000</td>\n",
       "    </tr>\n",
       "    <tr>\n",
       "      <th>...</th>\n",
       "      <td>...</td>\n",
       "      <td>...</td>\n",
       "      <td>...</td>\n",
       "      <td>...</td>\n",
       "    </tr>\n",
       "    <tr>\n",
       "      <th>2107150</th>\n",
       "      <td>950090</td>\n",
       "      <td>120</td>\n",
       "      <td>06/22/2012</td>\n",
       "      <td>225000</td>\n",
       "    </tr>\n",
       "    <tr>\n",
       "      <th>2107151</th>\n",
       "      <td>182800</td>\n",
       "      <td>640</td>\n",
       "      <td>05/23/1989</td>\n",
       "      <td>108500</td>\n",
       "    </tr>\n",
       "    <tr>\n",
       "      <th>2107152</th>\n",
       "      <td>926980</td>\n",
       "      <td>40</td>\n",
       "      <td>05/23/1991</td>\n",
       "      <td>352500</td>\n",
       "    </tr>\n",
       "    <tr>\n",
       "      <th>2107153</th>\n",
       "      <td>882290</td>\n",
       "      <td>1220</td>\n",
       "      <td>03/10/2005</td>\n",
       "      <td>417500</td>\n",
       "    </tr>\n",
       "    <tr>\n",
       "      <th>2107154</th>\n",
       "      <td>537980</td>\n",
       "      <td>6</td>\n",
       "      <td>03/10/2000</td>\n",
       "      <td>159377</td>\n",
       "    </tr>\n",
       "  </tbody>\n",
       "</table>\n",
       "<p>2107155 rows × 4 columns</p>\n",
       "</div>"
      ],
      "text/plain": [
       "          Major Minor DocumentDate  SalePrice\n",
       "0        138860   110   08/21/2014     245000\n",
       "1        664885    40   07/09/1991          0\n",
       "2        423943    50   10/11/2014          0\n",
       "3        403700   715   01/04/2013          0\n",
       "4        213043   120   12/20/2019     560000\n",
       "...         ...   ...          ...        ...\n",
       "2107150  950090   120   06/22/2012     225000\n",
       "2107151  182800   640   05/23/1989     108500\n",
       "2107152  926980    40   05/23/1991     352500\n",
       "2107153  882290  1220   03/10/2005     417500\n",
       "2107154  537980     6   03/10/2000     159377\n",
       "\n",
       "[2107155 rows x 4 columns]"
      ]
     },
     "execution_count": 37,
     "metadata": {},
     "output_type": "execute_result"
    }
   ],
   "source": [
    "# usecols was applied to limit the columns to the ones necessary for the current work.\n",
    "RPSale = pd.read_csv('../data/EXTR_RPSale.csv', usecols = ['Major', 'Minor', 'SalePrice', 'DocumentDate'], encoding = 'ISO-8859-1')\n",
    "RPSale"
   ]
  },
  {
   "cell_type": "code",
   "execution_count": 34,
   "metadata": {},
   "outputs": [
    {
     "name": "stdout",
     "output_type": "stream",
     "text": [
      "<class 'pandas.core.frame.DataFrame'>\n",
      "RangeIndex: 2107155 entries, 0 to 2107154\n",
      "Data columns (total 3 columns):\n",
      "Major        object\n",
      "Minor        object\n",
      "SalePrice    int64\n",
      "dtypes: int64(1), object(2)\n",
      "memory usage: 48.2+ MB\n"
     ]
    }
   ],
   "source": [
    "\n"
   ]
  },
  {
   "cell_type": "code",
   "execution_count": 42,
   "metadata": {
    "scrolled": false
   },
   "outputs": [
    {
     "data": {
      "text/html": [
       "<div>\n",
       "<style scoped>\n",
       "    .dataframe tbody tr th:only-of-type {\n",
       "        vertical-align: middle;\n",
       "    }\n",
       "\n",
       "    .dataframe tbody tr th {\n",
       "        vertical-align: top;\n",
       "    }\n",
       "\n",
       "    .dataframe thead th {\n",
       "        text-align: right;\n",
       "    }\n",
       "</style>\n",
       "<table border=\"1\" class=\"dataframe\">\n",
       "  <thead>\n",
       "    <tr style=\"text-align: right;\">\n",
       "      <th></th>\n",
       "      <th>Major</th>\n",
       "      <th>Minor</th>\n",
       "      <th>SqFtTotLiving</th>\n",
       "    </tr>\n",
       "  </thead>\n",
       "  <tbody>\n",
       "    <tr>\n",
       "      <th>0</th>\n",
       "      <td>718680</td>\n",
       "      <td>55</td>\n",
       "      <td>1400</td>\n",
       "    </tr>\n",
       "    <tr>\n",
       "      <th>1</th>\n",
       "      <td>718680</td>\n",
       "      <td>55</td>\n",
       "      <td>1400</td>\n",
       "    </tr>\n",
       "    <tr>\n",
       "      <th>2</th>\n",
       "      <td>718680</td>\n",
       "      <td>55</td>\n",
       "      <td>1400</td>\n",
       "    </tr>\n",
       "    <tr>\n",
       "      <th>3</th>\n",
       "      <td>718680</td>\n",
       "      <td>55</td>\n",
       "      <td>1400</td>\n",
       "    </tr>\n",
       "    <tr>\n",
       "      <th>4</th>\n",
       "      <td>718680</td>\n",
       "      <td>55</td>\n",
       "      <td>1400</td>\n",
       "    </tr>\n",
       "    <tr>\n",
       "      <th>...</th>\n",
       "      <td>...</td>\n",
       "      <td>...</td>\n",
       "      <td>...</td>\n",
       "    </tr>\n",
       "    <tr>\n",
       "      <th>517549</th>\n",
       "      <td>926403</td>\n",
       "      <td>920</td>\n",
       "      <td>3740</td>\n",
       "    </tr>\n",
       "    <tr>\n",
       "      <th>517550</th>\n",
       "      <td>926445</td>\n",
       "      <td>170</td>\n",
       "      <td>2303</td>\n",
       "    </tr>\n",
       "    <tr>\n",
       "      <th>517551</th>\n",
       "      <td>926445</td>\n",
       "      <td>320</td>\n",
       "      <td>2660</td>\n",
       "    </tr>\n",
       "    <tr>\n",
       "      <th>517552</th>\n",
       "      <td>926490</td>\n",
       "      <td>410</td>\n",
       "      <td>1940</td>\n",
       "    </tr>\n",
       "    <tr>\n",
       "      <th>517553</th>\n",
       "      <td>926490</td>\n",
       "      <td>660</td>\n",
       "      <td>2500</td>\n",
       "    </tr>\n",
       "  </tbody>\n",
       "</table>\n",
       "<p>517554 rows × 3 columns</p>\n",
       "</div>"
      ],
      "text/plain": [
       "         Major  Minor  SqFtTotLiving\n",
       "0       718680     55           1400\n",
       "1       718680     55           1400\n",
       "2       718680     55           1400\n",
       "3       718680     55           1400\n",
       "4       718680     55           1400\n",
       "...        ...    ...            ...\n",
       "517549  926403    920           3740\n",
       "517550  926445    170           2303\n",
       "517551  926445    320           2660\n",
       "517552  926490    410           1940\n",
       "517553  926490    660           2500\n",
       "\n",
       "[517554 rows x 3 columns]"
      ]
     },
     "execution_count": 42,
     "metadata": {},
     "output_type": "execute_result"
    }
   ],
   "source": [
    "# Applied usecols to limit the colomns to the ones necessary for the work currently being done.\n",
    "ResBldg = pd.read_csv('../data/EXTR_ResBldg.csv',usecols = ['Major', 'Minor', 'SqFtTotLiving'] ,encoding = 'ISO-8859-1')\n",
    "ResBldg"
   ]
  },
  {
   "cell_type": "code",
   "execution_count": 35,
   "metadata": {},
   "outputs": [
    {
     "name": "stdout",
     "output_type": "stream",
     "text": [
      "<class 'pandas.core.frame.DataFrame'>\n",
      "RangeIndex: 517554 entries, 0 to 517553\n",
      "Data columns (total 3 columns):\n",
      "Major            517554 non-null int64\n",
      "Minor            517554 non-null int64\n",
      "SqFtTotLiving    517554 non-null int64\n",
      "dtypes: int64(3)\n",
      "memory usage: 11.8 MB\n"
     ]
    }
   ],
   "source": [
    "ResBldg.info()"
   ]
  },
  {
   "cell_type": "code",
   "execution_count": null,
   "metadata": {},
   "outputs": [],
   "source": []
  }
 ],
 "metadata": {
  "kernelspec": {
   "display_name": "learn-env",
   "language": "python",
   "name": "learn-env"
  },
  "language_info": {
   "codemirror_mode": {
    "name": "ipython",
    "version": 3
   },
   "file_extension": ".py",
   "mimetype": "text/x-python",
   "name": "python",
   "nbconvert_exporter": "python",
   "pygments_lexer": "ipython3",
   "version": "3.6.9"
  }
 },
 "nbformat": 4,
 "nbformat_minor": 4
}
